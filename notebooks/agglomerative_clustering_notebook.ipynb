{
 "cells": [
  {
   "cell_type": "code",
   "execution_count": 1,
   "source": [
    "import numpy as np\n",
    "import pandas as pd\n",
    "from matplotlib import pyplot as plt\n",
    "# import seaborn as sns\n",
    "# sns.set()\n",
    "import sklearn\n",
    "from sklearn.datasets.samples_generator import make_blobs\n",
    "from sklearn.cluster import KMeans\n",
    "from sklearn.cluster import AgglomerativeClustering\n",
    "import os"
   ],
   "outputs": [
    {
     "output_type": "stream",
     "name": "stderr",
     "text": [
      "C:\\Users\\Travis\\anaconda3\\envs\\ML\\lib\\site-packages\\sklearn\\utils\\deprecation.py:143: FutureWarning: The sklearn.datasets.samples_generator module is  deprecated in version 0.22 and will be removed in version 0.24. The corresponding classes / functions should instead be imported from sklearn.datasets. Anything that cannot be imported from sklearn.datasets is now part of the private API.\n",
      "  warnings.warn(message, FutureWarning)\n"
     ]
    }
   ],
   "metadata": {}
  },
  {
   "cell_type": "code",
   "execution_count": 2,
   "source": [
    "df1 = pd.read_csv(r\"C:\\Users\\Travis\\OneDrive - College of Coastal Georgia\\work\\data\\raw\\1-17-20_drone.csv\")\n",
    "df2 = pd.read_csv(r\"C:\\Users\\Travis\\OneDrive - College of Coastal Georgia\\work\\data\\raw\\1-23-20_drone.csv\")\n",
    "df3 = pd.read_csv(r\"C:\\Users\\Travis\\OneDrive - College of Coastal Georgia\\work\\data\\raw\\1-29-20_drone.csv\")\n",
    "df4 = pd.read_csv(r\"C:\\Users\\Travis\\OneDrive - College of Coastal Georgia\\work\\data\\raw\\2-6-20_drone.csv\")\n",
    "\n",
    "whole = pd.concat([df1,df2,df3,df4])\n",
    "print(len(whole))"
   ],
   "outputs": [
    {
     "output_type": "stream",
     "name": "stdout",
     "text": [
      "83758\n"
     ]
    }
   ],
   "metadata": {}
  },
  {
   "cell_type": "code",
   "execution_count": 3,
   "source": [
    "# Creates a list of all unique genotypes in day 2 that we can itterate over.\n",
    "geno_list = whole.genotype.unique().tolist()\n",
    "\n",
    "if 'Green_Towers_BORDER' in geno_list:\n",
    "    geno_list.remove('Green_Towers_BORDER')"
   ],
   "outputs": [],
   "metadata": {}
  },
  {
   "cell_type": "code",
   "execution_count": 4,
   "source": [
    "# df1_cords = list(zip(df1['long'], df1['lat']))\n",
    "# df2_cords = list(zip(df2['long'], df2['lat']))\n",
    "# df3_cords = list(zip(df3['long'], df3['lat']))\n",
    "# df4_cords = list(zip(df2['long'], df2['lat']))\n",
    "\n",
    "whole_cords = list(zip(whole['long'], whole['lat']))"
   ],
   "outputs": [],
   "metadata": {}
  },
  {
   "cell_type": "code",
   "execution_count": null,
   "source": [],
   "outputs": [],
   "metadata": {}
  },
  {
   "cell_type": "code",
   "execution_count": 5,
   "source": [
    "# Whole deal\n",
    "\n",
    "model = sklearn.cluster.AgglomerativeClustering(n_clusters=None, affinity='euclidean', memory=None, connectivity=None, compute_full_tree='auto', linkage='ward', distance_threshold= .0000009)\n",
    "\n",
    "matched_df = pd.DataFrame(columns = ['date',\n",
    " 'treatment',\n",
    " 'plot',\n",
    " 'genotype',\n",
    " 'long',\n",
    " 'lat',\n",
    " 'canopy_cover',\n",
    " 'plant_area',\n",
    " 'plot_area',\n",
    " 'max_lat',\n",
    " 'min_lat',\n",
    " 'max_long',\n",
    " 'min_long','plant_name'])\n",
    "\n",
    "for geno in geno_list[:2]:\n",
    "    sub_df = whole.set_index('genotype').loc[geno]\n",
    "    \n",
    "    #give me only treatment 1 (this will have 3 replications, then group by plot number)\n",
    "    \n",
    "    try:\n",
    "        cords = list(zip(sub_df['long'], sub_df['lat']))\n",
    "#         print(len(cords))\n",
    "        \n",
    "        clustering = model.fit_predict(cords)\n",
    "#         print(clustering)\n",
    "        geno_clustered = sub_df.assign(plant_name = clustering)\n",
    "        \n",
    "        matched_df = pd.concat([matched_df,geno_clustered])\n",
    "        \n",
    "        \n",
    "        \n",
    "    except:\n",
    "        pass\n",
    "\n",
    "    \n",
    "# matched_df['genotype'] = matched_df[index]\n",
    "matched_df = matched_df.reset_index()\n",
    "\n",
    "matched_df['genotype'] = matched_df['index']\n",
    "\n",
    "del matched_df['index']\n",
    "print(matched_df)\n",
    "\n",
    "names = list(zip(matched_df['genotype'], matched_df['plant_name']))\n",
    "matched_df = matched_df.assign(plant_name = names)\n",
    "\n",
    "# for index, row in matched_df.iterrows():\n",
    "#     row['plant_name'] = '_'.join(str(row['plant_name']))\n",
    "# matched_df.to_csv('name_test.csv')\n",
    "    "
   ],
   "outputs": [
    {
     "output_type": "stream",
     "name": "stdout",
     "text": [
      "        date    treatment                                            plot  \\\n",
      "0    1/17/20  treatment 1  MAC_Field_Scanner_Season_10_Range_10_Column_10   \n",
      "1    1/17/20  treatment 1  MAC_Field_Scanner_Season_10_Range_10_Column_10   \n",
      "2    1/17/20  treatment 1  MAC_Field_Scanner_Season_10_Range_10_Column_10   \n",
      "3    1/17/20  treatment 1  MAC_Field_Scanner_Season_10_Range_10_Column_10   \n",
      "4    1/17/20  treatment 1  MAC_Field_Scanner_Season_10_Range_10_Column_10   \n",
      "..       ...          ...                                             ...   \n",
      "645   2/6/20  treatment 3  MAC_Field_Scanner_Season_10_Range_48_Column_40   \n",
      "646   2/6/20  treatment 3  MAC_Field_Scanner_Season_10_Range_48_Column_40   \n",
      "647   2/6/20  treatment 3  MAC_Field_Scanner_Season_10_Range_48_Column_40   \n",
      "648   2/6/20  treatment 3  MAC_Field_Scanner_Season_10_Range_48_Column_40   \n",
      "649   2/6/20  treatment 3  MAC_Field_Scanner_Season_10_Range_48_Column_40   \n",
      "\n",
      "        genotype        long        lat  canopy_cover  plant_area plot_area  \\\n",
      "0    GRxI_1075BS -111.975004  33.074849      0.324259       377.5    116265   \n",
      "1    GRxI_1075BS -111.975004  33.074852      0.401669       467.0    116265   \n",
      "2    GRxI_1075BS -111.975004  33.074856      0.436073       507.5    116265   \n",
      "3    GRxI_1075BS -111.975004  33.074862      0.491119       571.0    116265   \n",
      "4    GRxI_1075BS -111.975004  33.074868      0.460156       535.0    116265   \n",
      "..           ...         ...        ...           ...         ...       ...   \n",
      "645  Summer_Bibb -111.974841  33.076236      1.485759      1724.5    116035   \n",
      "646  Summer_Bibb -111.974841  33.076240      0.893696      1037.5    116035   \n",
      "647  Summer_Bibb -111.974842  33.076243      1.531434      1777.0    116035   \n",
      "648  Summer_Bibb -111.974841  33.076249      1.457319      1691.0    116035   \n",
      "649  Summer_Bibb -111.974841  33.076254      1.097083      1273.5    116035   \n",
      "\n",
      "       max_lat    min_lat    max_long    min_long plant_name  \n",
      "0    33.074849  33.074850 -111.975003 -111.975005         11  \n",
      "1    33.074852  33.074853 -111.975004 -111.975005         31  \n",
      "2    33.074856  33.074857 -111.975004 -111.975005         46  \n",
      "3    33.074861  33.074862 -111.975004 -111.975005         84  \n",
      "4    33.074868  33.074869 -111.975004 -111.975005         13  \n",
      "..         ...        ...         ...         ...        ...  \n",
      "645  33.076235  33.076236 -111.974840 -111.974842         42  \n",
      "646  33.076239  33.076241 -111.974841 -111.974842         75  \n",
      "647  33.076242  33.076243 -111.974841 -111.974842         51  \n",
      "648  33.076248  33.076249 -111.974841 -111.974842         21  \n",
      "649  33.076253  33.076255 -111.974841 -111.974842          5  \n",
      "\n",
      "[650 rows x 14 columns]\n"
     ]
    }
   ],
   "metadata": {}
  },
  {
   "cell_type": "code",
   "execution_count": null,
   "source": [
    "# Structure\n",
    "\n",
    "name = geno-\n",
    "    treatement1-\n",
    "        replication-\n",
    "            id-\n",
    "                information for all days- \n",
    "                    date - all information for that plant\n",
    "                    date - all information for that plant"
   ],
   "outputs": [],
   "metadata": {}
  },
  {
   "cell_type": "code",
   "execution_count": 1,
   "source": [
    "l1 = [1,2,3,4,5,6,7,8,9,10,11,12,13,14]\n",
    "\n",
    "print(l1[:12])"
   ],
   "outputs": [
    {
     "output_type": "stream",
     "name": "stdout",
     "text": [
      "[1, 2, 3, 4, 5, 6, 7, 8, 9, 10, 11, 12]\n"
     ]
    }
   ],
   "metadata": {}
  },
  {
   "cell_type": "code",
   "execution_count": null,
   "source": [],
   "outputs": [],
   "metadata": {}
  }
 ],
 "metadata": {
  "kernelspec": {
   "name": "python3",
   "display_name": "Python 3.8.5 64-bit ('general': conda)"
  },
  "language_info": {
   "codemirror_mode": {
    "name": "ipython",
    "version": 3
   },
   "file_extension": ".py",
   "mimetype": "text/x-python",
   "name": "python",
   "nbconvert_exporter": "python",
   "pygments_lexer": "ipython3",
   "version": "3.8.5"
  },
  "interpreter": {
   "hash": "66fd99cc653260adf426bf328db08d1b55b377c06d9b72100938088d40231a18"
  }
 },
 "nbformat": 4,
 "nbformat_minor": 4
}