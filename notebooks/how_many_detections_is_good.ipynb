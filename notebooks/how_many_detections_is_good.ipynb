{
 "cells": [
  {
   "cell_type": "code",
   "execution_count": 2,
   "source": [
    "# how many times does a plant need to be seen for it to be a 'good plant'\n",
    "\n",
    "import pandas as pd\n",
    "import matplotlib.pyplot as plt\n",
    "import collections"
   ],
   "outputs": [],
   "metadata": {}
  },
  {
   "cell_type": "code",
   "execution_count": 3,
   "source": [
    "df = pd.read_csv('stereoTop_full_season_clustering.csv')"
   ],
   "outputs": [],
   "metadata": {}
  },
  {
   "cell_type": "code",
   "execution_count": 4,
   "source": [
    "dates = df.date.unique()[-11:]"
   ],
   "outputs": [],
   "metadata": {}
  },
  {
   "cell_type": "code",
   "execution_count": 5,
   "source": [
    "\n",
    "df = df[df['date'].isin(dates)]\n",
    "counter=collections.Counter(df['plant_name'])\n",
    "print(counter.most_common(20))"
   ],
   "outputs": [
    {
     "output_type": "stream",
     "name": "stdout",
     "text": [
      "[('Green_Thunder_11', 11), ('Green_Thunder_57', 11), ('Green_Thunder_28', 11), ('Green_Thunder_104', 11), ('Green_Thunder_20', 11), ('Green_Thunder_4', 11), ('Green_Thunder_59', 11), ('Green_Thunder_112', 11), ('Green_Thunder_96', 11), ('Green_Thunder_76', 11), ('Green_Thunder_56', 11), ('Green_Thunder_78', 11), ('Green_Thunder_167', 11), ('Green_Thunder_156', 11), ('Green_Thunder_144', 11), ('Green_Thunder_141', 11), ('Green_Thunder_132', 11), ('Green_Thunder_10', 11), ('Green_Thunder_32', 11), ('Green_Thunder_176', 11)]\n"
     ]
    }
   ],
   "metadata": {}
  },
  {
   "cell_type": "code",
   "execution_count": 6,
   "source": [
    "over_11_df = df.groupby('plant_name').filter(lambda x : x['plant_name'].shape[0]>=11)"
   ],
   "outputs": [],
   "metadata": {}
  },
  {
   "cell_type": "code",
   "execution_count": 7,
   "source": [
    "len(dates)"
   ],
   "outputs": [
    {
     "output_type": "execute_result",
     "data": {
      "text/plain": [
       "11"
      ]
     },
     "metadata": {},
     "execution_count": 7
    }
   ],
   "metadata": {}
  },
  {
   "cell_type": "code",
   "execution_count": 9,
   "source": [
    "over_names = list(over_11_df['plant_name'].unique())"
   ],
   "outputs": [],
   "metadata": {}
  },
  {
   "cell_type": "code",
   "execution_count": 10,
   "source": [
    "# only grab these from the csv and save\n",
    "\n",
    "import json\n",
    "\n",
    "with open('over_11_observations.txt', 'w') as f:\n",
    "    f.write(json.dumps(over_names))\n",
    "\n",
    "# over_11_df.to_csv('over_11_observations.csv')"
   ],
   "outputs": [],
   "metadata": {}
  },
  {
   "cell_type": "code",
   "execution_count": 25,
   "source": [
    "plant_names = over_11_df.plant_name.unique()"
   ],
   "outputs": [],
   "metadata": {}
  },
  {
   "cell_type": "code",
   "execution_count": 27,
   "source": [
    "for file in files:\n",
    "    sample 100 of these plant over_names\n",
    "\n",
    "    iterate through and glob and add to a list of samples\n",
    "\n",
    "    fore x in sample\n",
    "        try:move "
   ],
   "outputs": [
    {
     "output_type": "stream",
     "name": "stdout",
     "text": [
      "2020-01-18\n",
      "2020-01-21\n",
      "2020-01-28\n",
      "2020-01-31\n",
      "2020-02-03\n",
      "2020-02-08\n",
      "2020-02-15\n",
      "2020-02-18\n",
      "2020-03-01\n",
      "2020-03-02\n",
      "2020-03-03\n"
     ]
    }
   ],
   "metadata": {}
  },
  {
   "cell_type": "code",
   "execution_count": null,
   "source": [],
   "outputs": [],
   "metadata": {}
  }
 ],
 "metadata": {
  "orig_nbformat": 4,
  "language_info": {
   "name": "python",
   "version": "3.8.5",
   "mimetype": "text/x-python",
   "codemirror_mode": {
    "name": "ipython",
    "version": 3
   },
   "pygments_lexer": "ipython3",
   "nbconvert_exporter": "python",
   "file_extension": ".py"
  },
  "kernelspec": {
   "name": "python3",
   "display_name": "Python 3.8.5 64-bit ('general': conda)"
  },
  "interpreter": {
   "hash": "66fd99cc653260adf426bf328db08d1b55b377c06d9b72100938088d40231a18"
  }
 },
 "nbformat": 4,
 "nbformat_minor": 2
}